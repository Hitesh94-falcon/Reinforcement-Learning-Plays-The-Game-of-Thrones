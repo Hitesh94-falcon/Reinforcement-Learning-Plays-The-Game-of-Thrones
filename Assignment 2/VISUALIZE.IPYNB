{
 "cells": [
  {
   "cell_type": "code",
   "execution_count": null,
   "id": "9826b874",
   "metadata": {},
   "outputs": [
    {
     "name": "stdout",
     "output_type": "stream",
     "text": [
      "No saved Q-table was found. Please train the Q-learning agent first or check your path.\n"
     ]
    }
   ],
   "source": [
    "from Q_learning import visualize_q_table\n",
    "\n",
    "visualize_q_table(q_values_path=\"D:\\Thi\\Padm\\Assignment 2\\intermeditaeqtables\\q_table_ep100(1).npy\")"
   ]
  },
  {
   "cell_type": "code",
   "execution_count": null,
   "id": "6b031fae",
   "metadata": {},
   "outputs": [
    {
     "name": "stdout",
     "output_type": "stream",
     "text": [
      "<class 'numpy.ndarray'> ()\n"
     ]
    }
   ],
   "source": [
    "import numpy as np\n",
    "q = np.load(\"D:/Thi/Padm/Assignment 2/q_table_ep100.npy\", allow_pickle=True)\n",
    "print(type(q), q.shape)"
   ]
  }
 ],
 "metadata": {
  "kernelspec": {
   "display_name": "padm",
   "language": "python",
   "name": "python3"
  },
  "language_info": {
   "codemirror_mode": {
    "name": "ipython",
    "version": 3
   },
   "file_extension": ".py",
   "mimetype": "text/x-python",
   "name": "python",
   "nbconvert_exporter": "python",
   "pygments_lexer": "ipython3",
   "version": "3.11.11"
  }
 },
 "nbformat": 4,
 "nbformat_minor": 5
}
