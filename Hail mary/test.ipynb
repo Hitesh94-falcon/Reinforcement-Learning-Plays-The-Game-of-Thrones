{
 "cells": [
  {
   "cell_type": "code",
   "execution_count": null,
   "id": "eac656f4",
   "metadata": {},
   "outputs": [
    {
     "ename": "KeyboardInterrupt",
     "evalue": "",
     "output_type": "error",
     "traceback": [
      "\u001b[31m---------------------------------------------------------------------------\u001b[39m",
      "\u001b[31mKeyboardInterrupt\u001b[39m                         Traceback (most recent call last)",
      "\u001b[36mCell\u001b[39m\u001b[36m \u001b[39m\u001b[32mIn[1]\u001b[39m\u001b[32m, line 26\u001b[39m\n\u001b[32m     24\u001b[39m \u001b[38;5;28;01mwhile\u001b[39;00m \u001b[38;5;129;01mnot\u001b[39;00m done:\n\u001b[32m     25\u001b[39m     env.render()\n\u001b[32m---> \u001b[39m\u001b[32m26\u001b[39m     \u001b[43mtime\u001b[49m\u001b[43m.\u001b[49m\u001b[43msleep\u001b[49m\u001b[43m(\u001b[49m\u001b[32;43m0.5\u001b[39;49m\u001b[43m)\u001b[49m\n\u001b[32m     27\u001b[39m     steps += \u001b[32m1\u001b[39m\n\u001b[32m     29\u001b[39m     \u001b[38;5;66;03m# Choose action greedily from correct Q-table\u001b[39;00m\n",
      "\u001b[31mKeyboardInterrupt\u001b[39m: "
     ]
    },
    {
     "ename": "",
     "evalue": "",
     "output_type": "error",
     "traceback": [
      "\u001b[1;31mThe Kernel crashed while executing code in the current cell or a previous cell. \n",
      "\u001b[1;31mPlease review the code in the cell(s) to identify a possible cause of the failure. \n",
      "\u001b[1;31mClick <a href='https://aka.ms/vscodeJupyterKernelCrash'>here</a> for more info. \n",
      "\u001b[1;31mView Jupyter <a href='command:jupyter.viewOutput'>log</a> for further details."
     ]
    }
   ],
   "source": [
    "import numpy as np\n",
    "from my_env import create_env\n",
    "import time\n",
    "\n",
    "# Load Q-tables\n",
    "q_table_kingdom = np.load(r\"D:\\Thi\\Padm\\Hail mary\\q_value_folder\\q_table_kingdom.npy\")\n",
    "q_table_goal = np.load(r\"D:\\Thi\\Padm\\Hail mary\\q_value_folder\\q_table_goal.npy\")\n",
    "\n",
    "# Create the environment\n",
    "env = create_env()  # This will use render_=True as per your function\n",
    "\n",
    "\n",
    "\n",
    "# Reset environment\n",
    "state = env.reset()  # or True if desired\n",
    "state = tuple(state)\n",
    "\n",
    "trajectory = [state]\n",
    "total_reward = 0\n",
    "steps = 0\n",
    "done = False\n",
    "harrenhall_captured = False\n",
    "\n",
    "while not done:\n",
    "    env.render()\n",
    "    time.sleep(0.5)\n",
    "    steps += 1\n",
    "\n",
    "    # Choose action greedily from correct Q-table\n",
    "    if not harrenhall_captured:\n",
    "        action = np.argmax(q_table_kingdom[state])\n",
    "    else:\n",
    "        action = np.argmax(q_table_goal[state])\n",
    "\n",
    "    # Step the environment\n",
    "    next_state, reward, done, info = env.step(action)\n",
    "    next_state = tuple(next_state)\n",
    "    total_reward += reward\n",
    "\n",
    "    # Update kingdom flag\n",
    "    if info.get(\"Harrenhall captured\"):\n",
    "        harrenhall_captured = True\n",
    "\n",
    "\n",
    "    state = next_state\n",
    "\n",
    "# Close and print results\n",
    "env.close()\n"
   ]
  }
 ],
 "metadata": {
  "kernelspec": {
   "display_name": "padm",
   "language": "python",
   "name": "python3"
  },
  "language_info": {
   "codemirror_mode": {
    "name": "ipython",
    "version": 3
   },
   "file_extension": ".py",
   "mimetype": "text/x-python",
   "name": "python",
   "nbconvert_exporter": "python",
   "pygments_lexer": "ipython3",
   "version": "3.11.11"
  }
 },
 "nbformat": 4,
 "nbformat_minor": 5
}
